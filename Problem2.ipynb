{
 "cells": [
  {
   "cell_type": "markdown",
   "metadata": {},
   "source": [
    "Problem 2"
   ]
  },
  {
   "cell_type": "markdown",
   "metadata": {},
   "source": [
    "<br><b>Introduction</b><br>\n",
    "\n",
    "This task we explore the usage of numpy package and its function on a historical daily close prices of Bitcoin against US dollar. The whole data is imported but we primarly focuses on Q3 quarter of the financial year. The data will be downloaded and preprocessed without using pandas. Then key insights and stats will be extracted. New data will be found using existing one. Multiple visual representations will be used to extract informations. Outliers will be found out using numpy. This task can be further extended in the various dimensions."
   ]
  },
  {
   "cell_type": "markdown",
   "metadata": {},
   "source": [
    "1. We have successfully downloaded the data from provided link. Used MS Excel to manually remove everything except the numeric values in the Close column. All the column labels were also deleted. Exported this to a CSV file."
   ]
  },
  {
   "cell_type": "markdown",
   "metadata": {},
   "source": [
    "2. Next we are using numpy to read the data as numpy vector."
   ]
  },
  {
   "cell_type": "code",
   "execution_count": 1,
   "metadata": {},
   "outputs": [],
   "source": [
    "import numpy as np\n",
    "import matplotlib.pyplot as plt #Library import\n",
    "\n",
    "rates = np.genfromtxt(\"BTC-USD.csv\")"
   ]
  },
  {
   "cell_type": "markdown",
   "metadata": {},
   "source": [
    "Here we used numpy to read the data and store it in the vector rates."
   ]
  },
  {
   "cell_type": "markdown",
   "metadata": {},
   "source": [
    "3. Now for the Q3 2023 we found some aggregates and displayed it."
   ]
  },
  {
   "cell_type": "code",
   "execution_count": 2,
   "metadata": {},
   "outputs": [],
   "source": [
    "#Since the Q3 is days 182-273 inclusive we will extract those data using array slicing\n",
    "q3_data = rates[181:273]"
   ]
  },
  {
   "cell_type": "code",
   "execution_count": 3,
   "metadata": {},
   "outputs": [],
   "source": [
    "#Now lets calculate the aggregate mentioned\n",
    "\n",
    "a_mean = np.mean(q3_data) #Arithmetic Mean\n",
    "minimum = np.min(q3_data) #Minimum\n",
    "f_quartile = np.quantile(q3_data,.25) #1st quartile\n",
    "median = np.median(q3_data) #Median\n",
    "t_quartile = np.quantile(q3_data,.75) #Third quartile\n",
    "maximum = np.max(q3_data) #Maximum values\n",
    "std_dev = np.std(q3_data) #Standard Deviation\n",
    "iqr = t_quartile-f_quartile #Inter quartile range"
   ]
  },
  {
   "cell_type": "markdown",
   "metadata": {},
   "source": [
    "Different aggregate function of numpy is used for the calculations"
   ]
  },
  {
   "cell_type": "code",
   "execution_count": 4,
   "metadata": {},
   "outputs": [
    {
     "name": "stdout",
     "output_type": "stream",
     "text": [
      "Aggregates for Q3 2023\n",
      "\n",
      "Arithmetic Mean: 28091.33\n",
      "Minimum: 25162.65\n",
      "First Quartile: 26225.56\n",
      "Median: 28871.82\n",
      "Third Quartile: 29767.07\n",
      "Maximum: 31476.05\n",
      "Standard Deviation: 1827.04\n",
      "Interquartile Range: 3541.51\n"
     ]
    }
   ],
   "source": [
    "# Display the aggregates\n",
    "print(\"Aggregates for Q3 2023\\n\")\n",
    "print(f\"Arithmetic Mean: {a_mean:.2f}\")\n",
    "print(f\"Minimum: {minimum:.2f}\")\n",
    "print(f\"First Quartile: {f_quartile:.2f}\")\n",
    "print(f\"Median: {median:.2f}\")\n",
    "print(f\"Third Quartile: {t_quartile:.2f}\")\n",
    "print(f\"Maximum: {maximum:.2f}\")\n",
    "print(f\"Standard Deviation: {std_dev:.2f}\")\n",
    "print(f\"Interquartile Range: {iqr:.2f}\")"
   ]
  },
  {
   "cell_type": "markdown",
   "metadata": {},
   "source": [
    "Successfully displayed the output of different functions."
   ]
  },
  {
   "cell_type": "markdown",
   "metadata": {},
   "source": [
    "<br>\n",
    "4. We plotted the Q3 data using pyplot."
   ]
  },
  {
   "cell_type": "code",
   "execution_count": 5,
   "metadata": {},
   "outputs": [],
   "source": [
    "#Since we need number of days to plot the Q3 we are going to count the number of days in Q3.\n",
    "days = np.arange(182,274) #182 denoting July 1"
   ]
  },
  {
   "cell_type": "code",
   "execution_count": 6,
   "metadata": {},
   "outputs": [
    {
     "data": {
      "image/png": "[encoded data removed]",
      "text/plain": [
       "<Figure size 432x288 with 1 Axes>"
      ]
     },
     "metadata": {
      "needs_background": "light"
     },
     "output_type": "display_data"
    }
   ],
   "source": [
    "#Now lets plot the data with the given constrain\n",
    "\n",
    "plt.plot(days,q3_data,'-r') #Calling the function\n",
    "plt.title(\"BTC to USD in Q3 2023\") #Title creation\n",
    "plt.xlabel('Days') #Two labels\n",
    "plt.ylabel('Rate')\n",
    "plt.show() #Displaying"
   ]
  },
  {
   "cell_type": "markdown",
   "metadata": {},
   "source": [
    "A line plot with red solid line segments is created. From the graph we can see that at the beginning of Q3 the BTC to USD rates are all time high but when it reaches the end of the Q3 the rates are lowest. This downfall starts exactly when it is middle of the Q3 quarter."
   ]
  },
  {
   "cell_type": "markdown",
   "metadata": {},
   "source": [
    "<br>\n",
    "5. We found days with lowest and highest observed prices in Q3 2023 with the help of numpy function."
   ]
  },
  {
   "cell_type": "code",
   "execution_count": 7,
   "metadata": {},
   "outputs": [],
   "source": [
    "# Day with the lowest price.\n",
    "\n",
    "lp_day = np.argmin(q3_data)+182  #182 is added to sync with the date\n",
    "lp = np.min(q3_data) \n",
    "\n",
    "# Day with the highest price.\n",
    "hp_day = np.argmax(q3_data)+182  #182 is added to sync with the date\n",
    "hp = np.max(q3_data)"
   ]
  },
  {
   "cell_type": "code",
   "execution_count": 8,
   "metadata": {},
   "outputs": [
    {
     "name": "stdout",
     "output_type": "stream",
     "text": [
      "Lowest price was on day 254 (25162.65).\n",
      "Highest price was on day 194 (31476.05).\n"
     ]
    }
   ],
   "source": [
    "print(f\"Lowest price was on day {lp_day} ({lp:.2f}).\")\n",
    "print(f\"Highest price was on day {hp_day} ({hp:.2f}).\")"
   ]
  },
  {
   "cell_type": "markdown",
   "metadata": {},
   "source": [
    "Successfully displayed the lowest price and highest price and the corresponding days which it occured."
   ]
  },
  {
   "cell_type": "markdown",
   "metadata": {},
   "source": [
    "\n",
    "<br>6. Calculated the daily price increase/decreases of the Q3 data and plotted it."
   ]
  },
  {
   "cell_type": "code",
   "execution_count": 9,
   "metadata": {},
   "outputs": [],
   "source": [
    "# Lets calculate Q3 daily price increase/decrease using numpy.diff\n",
    "price_variation = np.diff(q3_data)"
   ]
  },
  {
   "cell_type": "code",
   "execution_count": 10,
   "metadata": {},
   "outputs": [
    {
     "data": {
      "image/png": "[encoded data removed]",
      "text/plain": [
       "<Figure size 432x288 with 1 Axes>"
      ]
     },
     "metadata": {
      "needs_background": "light"
     },
     "output_type": "display_data"
    }
   ],
   "source": [
    "#Now lets plot the boxplot with whiskers\n",
    "plt.boxplot(price_variation,vert=False) #the boxplot is created\n",
    "plt.title('Distribution of BTC-to-USD daily price increases in Q3 2023')\n",
    "\n",
    "plt.plot(np.mean(price_variation),1,'gx') # x is marked on 1 gives the coordinate \n",
    "plt.show()"
   ]
  },
  {
   "cell_type": "markdown",
   "metadata": {},
   "source": [
    "Above plot gives the visual representation of the variation  of daily price changes. The IQR represents the first and third quartile of the data. Whiskers gives the min and max values. The line represents the median of the data.Mean is represented using 'x' mark. We can see outliers present in the data."
   ]
  },
  {
   "cell_type": "markdown",
   "metadata": {},
   "source": [
    "<br><br>\n",
    "7. We found the number of outliers present in the boxplot programmatically."
   ]
  },
  {
   "cell_type": "code",
   "execution_count": 11,
   "metadata": {},
   "outputs": [],
   "source": [
    "#Inorder to find outliers we need to find IQR and its bounds.\n",
    "q1 = np.percentile(price_variation,25) #q1 and q3 are found\n",
    "q3 = np.percentile(price_variation,75)\n",
    "box_iqr = q3-q1  #Finding iqr of the boxplot by subtracting from the bound."
   ]
  },
  {
   "cell_type": "code",
   "execution_count": 12,
   "metadata": {},
   "outputs": [],
   "source": [
    "#Substituting in the equation\n",
    "lower_bound = q1-1.5*box_iqr\n",
    "upper_bound = q3+1.5*box_iqr"
   ]
  },
  {
   "cell_type": "code",
   "execution_count": 13,
   "metadata": {},
   "outputs": [
    {
     "name": "stdout",
     "output_type": "stream",
     "text": [
      "There are 16 outliers.\n"
     ]
    }
   ],
   "source": [
    "#Now lets count the number of outliers using numpy, the values falling outside these bounds are considered outliers\n",
    "\n",
    "outliers = np.sum((price_variation < lower_bound) | (price_variation > upper_bound)) #Checking if each value is in the range or not\n",
    "\n",
    "print(f\"There are {outliers} outliers.\")"
   ]
  },
  {
   "cell_type": "markdown",
   "metadata": {},
   "source": [
    "In the current context some of these outliers might not be an anomaly. Since it is a financial data there is a possibility of sudden fluctuation in the rates caused by external factors. But analysing outliers can give us insights into the unusual market conditions or potential risks."
   ]
  },
  {
   "cell_type": "code",
   "execution_count": null,
   "metadata": {},
   "outputs": [],
   "source": []
  }
 ],
 "metadata": {
  "kernelspec": {
   "display_name": "Python 3 (ipykernel)",
   "language": "python",
   "name": "python3"
  },
  "language_info": {
   "codemirror_mode": {
    "name": "ipython",
    "version": 3
   },
   "file_extension": ".py",
   "mimetype": "text/x-python",
   "name": "python",
   "nbconvert_exporter": "python",
   "pygments_lexer": "ipython3",
   "version": "3.8.18"
  }
 },
 "nbformat": 4,
 "nbformat_minor": 4
}
