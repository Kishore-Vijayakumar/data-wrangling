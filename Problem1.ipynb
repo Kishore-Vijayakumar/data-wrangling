{
 "cells": [
  {
   "cell_type": "markdown",
   "metadata": {},
   "source": [
    "Problem 1\n"
   ]
  },
  {
   "cell_type": "markdown",
   "metadata": {},
   "source": [
    "This task gives an introduction to Python and Jupyter Notebooks. It can demonstrate how powerful and simple Python is. Use of Jupyter Notebook makes it easy to understand and visualize different functionalities. We can easily create report from jupyter notebook. Here we will use list,loops and plotting methods."
   ]
  },
  {
   "cell_type": "markdown",
   "metadata": {},
   "source": [
    "1. Let's first create the three Python lists for our further tasks."
   ]
  },
  {
   "cell_type": "code",
   "execution_count": 12,
   "metadata": {},
   "outputs": [],
   "source": [
    "names = [\"Adam\",\"George\",\"Peggy\",\"Natalie\",\"Stephen\"]\n",
    "heights = [170,165,156,160,166] #in centimeters\n",
    "weights = [65,63,80,66,70] #in kilograms"
   ]
  },
  {
   "cell_type": "markdown",
   "metadata": {},
   "source": [
    "Three lists are created with same size which depict different characteristics."
   ]
  },
  {
   "cell_type": "markdown",
   "metadata": {},
   "source": [
    "2. Now let's calculate the BMI and New BMI using for loop. "
   ]
  },
  {
   "cell_type": "code",
   "execution_count": 13,
   "metadata": {},
   "outputs": [],
   "source": [
    "bmis = []\n",
    "new_bmis = []  #Two list to store body mass index"
   ]
  },
  {
   "cell_type": "markdown",
   "metadata": {},
   "source": [
    "Equation for calcuating BMI $$BMI = \\frac{mass_{kg}}{height_{m}^2}$$\n",
    "\n",
    "Equation for calculating New BMI(exponent of 2.5) $$BMI = 1.3\\times\\frac{mass_{kg}}{height_{m}^{ 2.5}}$$"
   ]
  },
  {
   "cell_type": "code",
   "execution_count": 14,
   "metadata": {},
   "outputs": [],
   "source": [
    "for i in range(len(names)):\n",
    "    conv_height = heights[i]/100 #Since height is given in centimeters we need to convert it.\n",
    "    bmi = weights[i]/(conv_height**2) #BMI formula\n",
    "    new_bmi = 1.3*( weights[i]/(conv_height**2.5) ) #New formula\n",
    "    \n",
    "    bmis.append(bmi) \n",
    "    new_bmis.append(new_bmi) #Both bmi are appended to the list"
   ]
  },
  {
   "cell_type": "markdown",
   "metadata": {},
   "source": [
    "For loop is used to iterate each element and bmi and new bmi is calculated for each values."
   ]
  },
  {
   "cell_type": "markdown",
   "metadata": {},
   "source": [
    "<br>"
   ]
  },
  {
   "cell_type": "markdown",
   "metadata": {},
   "source": [
    "3. Now lets print the two bmis based on WHO defined categories."
   ]
  },
  {
   "cell_type": "code",
   "execution_count": 15,
   "metadata": {},
   "outputs": [
    {
     "name": "stdout",
     "output_type": "stream",
     "text": [
      "## Adam has BMI of 22.49 which is normal. The new BMI index is 22.43.\n",
      "## George has BMI of 23.14 which is normal. The new BMI index is 23.42.\n",
      "## Peggy has BMI of 32.87 which is obese. The new BMI index is 34.22.\n",
      "## Natalie has BMI of 25.78 which is overweight. The new BMI index is 26.50.\n",
      "## Stephen has BMI of 25.40 which is overweight. The new BMI index is 25.63.\n"
     ]
    }
   ],
   "source": [
    "def bmi_cat(bmi): # Here we are defining a userdefined function to find which category the person falls into\n",
    "    if bmi < 18.5:\n",
    "        return \"underweight\" #returns the category name\n",
    "    elif 18.5 <= bmi <25.0:\n",
    "        return \"normal\"\n",
    "    elif 25.0 <= bmi < 30.0:\n",
    "        return \"overweight\"\n",
    "    else:\n",
    "        return \"obese\"\n",
    "\n",
    "for i in range(len(names)): #Printing the text by using for loop and calling the function.\n",
    "    print(f\"## {names[i]} has BMI of {bmis[i]:.2f} which is {bmi_cat(bmis[i])}. The new BMI index is {new_bmis[i]:.2f}.\")"
   ]
  },
  {
   "cell_type": "markdown",
   "metadata": {},
   "source": [
    "Using for loop and user defined function we printed the bmi and new bmi and categorised each value based on the standards.<br><br><br>"
   ]
  },
  {
   "cell_type": "markdown",
   "metadata": {},
   "source": [
    "4. Now lets plot the data into a bar plot."
   ]
  },
  {
   "cell_type": "code",
   "execution_count": 16,
   "metadata": {},
   "outputs": [],
   "source": [
    "categories = [bmi_cat(bmi) for bmi in bmis]  #Extracting the different BMI categories present in our data."
   ]
  },
  {
   "cell_type": "code",
   "execution_count": 17,
   "metadata": {},
   "outputs": [],
   "source": [
    "# Define colors for each category\n",
    "colors = {\n",
    "    \"underweight\": \"blue\",\n",
    "    \"normal\": \"green\",\n",
    "    \"overweight\": \"yellow\",\n",
    "    \"obese\": \"red\"\n",
    "}"
   ]
  },
  {
   "cell_type": "markdown",
   "metadata": {},
   "source": [
    "Character for each bin is defined"
   ]
  },
  {
   "cell_type": "code",
   "execution_count": 18,
   "metadata": {
    "scrolled": true
   },
   "outputs": [
    {
     "data": {
      "image/png": "[encoded data removed]",
      "text/plain": [
       "<Figure size 720x432 with 1 Axes>"
      ]
     },
     "metadata": {
      "needs_background": "light"
     },
     "output_type": "display_data"
    }
   ],
   "source": [
    "import matplotlib.pyplot as plt  #Importing matplotlib for bar plot\n",
    "\n",
    "# Create bar plot\n",
    "plt.figure(figsize=(10, 6))\n",
    "bars = plt.bar(names, bmis, color=[colors[category] for category in categories]) #Using for loop assigned colour and category names.\n"
   ]
  },
  {
   "cell_type": "markdown",
   "metadata": {},
   "source": [
    "Here we can see different bins and one person is obese which is represented in red. Bar plot is good for this type of visualizations."
   ]
  },
  {
   "cell_type": "markdown",
   "metadata": {},
   "source": [
    "<br><br>"
   ]
  },
  {
   "cell_type": "code",
   "execution_count": null,
   "metadata": {},
   "outputs": [],
   "source": []
  }
 ],
 "metadata": {
  "kernelspec": {
   "display_name": "Python 3 (ipykernel)",
   "language": "python",
   "name": "python3"
  },
  "language_info": {
   "codemirror_mode": {
    "name": "ipython",
    "version": 3
   },
   "file_extension": ".py",
   "mimetype": "text/x-python",
   "name": "python",
   "nbconvert_exporter": "python",
   "pygments_lexer": "ipython3",
   "version": "3.8.18"
  }
 },
 "nbformat": 4,
 "nbformat_minor": 4
}
